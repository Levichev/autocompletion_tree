{
 "cells": [
  {
   "cell_type": "code",
   "execution_count": 1,
   "id": "f1c7717e",
   "metadata": {},
   "outputs": [],
   "source": [
    "import os\n",
    "import pickle\n",
    "\n",
    "from test import test\n",
    "from train import train, train_for_count_test\n",
    "from models import train_model_all_string\n",
    "from models import get_next_tokens, test_model\n",
    "from token_id_generator import TokenIdGenerator\n",
    "from tokenizer import tokenize_java_code\n",
    "from tree_node import TreeNode\n",
    "from token_id_generator import TokenIdGenerator"
   ]
  },
  {
   "cell_type": "markdown",
   "id": "0771189a",
   "metadata": {},
   "source": [
    "**directory_train**, **directory_test** - пути к директориям с проетами JAVA разделенные на тренировочные и тестовые</br>\n",
    "**max_file_count** - ограничение на количество обучающих файлов кода (нужно в связи с ограничением по памяти и времени) </br>\n",
    "**max_tokens** - максимальное количество подряд идущих токенов которые будут записаны в дерево "
   ]
  },
  {
   "cell_type": "code",
   "execution_count": 2,
   "id": "f06f700d",
   "metadata": {},
   "outputs": [],
   "source": [
    "directory_train = os.getenv(\"PATH_TO_JAVA_CORPUS_TRAIN\")\n",
    "directory_test = os.getenv(\"PATH_TO_JAVA_CORPUS_TEST\")\n",
    "max_file_count = 500\n",
    "max_tokens = range(1, 20, 1)"
   ]
  },
  {
   "cell_type": "markdown",
   "id": "066e954d",
   "metadata": {},
   "source": [
    "# Зависимость точности модели от количества токенов в дереве"
   ]
  },
  {
   "cell_type": "markdown",
   "id": "874619db",
   "metadata": {},
   "source": [
    "Обучаем модель на разном количестве подряд идущих токенов и сохраняем модель для каждого значения"
   ]
  },
  {
   "cell_type": "code",
   "execution_count": 3,
   "id": "776ae2de",
   "metadata": {},
   "outputs": [
    {
     "name": "stdout",
     "output_type": "stream",
     "text": [
      "processed files: 500\n",
      "processed files: 500\n",
      "processed files: 500\n",
      "processed files: 500\n",
      "processed files: 500\n",
      "processed files: 500\n",
      "processed files: 500\n",
      "processed files: 500\n",
      "processed files: 500\n",
      "processed files: 500\n",
      "processed files: 500\n",
      "processed files: 500\n",
      "processed files: 500\n",
      "processed files: 500\n",
      "processed files: 500\n",
      "processed files: 500\n",
      "processed files: 500\n",
      "processed files: 500\n",
      "processed files: 500\n"
     ]
    }
   ],
   "source": [
    "for x in max_tokens:\n",
    "    result = train(\n",
    "        directory_train, \n",
    "        train_model_all_string, \n",
    "        max_file_count=max_file_count,\n",
    "        max_tokens=x\n",
    "    )\n",
    "    model_path = f\"trained_models/tree{max_file_count}_{x}.pkl\"\n",
    "    id_generator_path = f\"trained_models/id{max_file_count}_{x}.pkl\"\n",
    "    \n",
    "    root_node = result[\"root_node\"]\n",
    "    id_generator = result[\"id_generator\"]\n",
    "\n",
    "    \n",
    "    root_node.dump(model_path)\n",
    "    id_generator.dump(id_generator_path)"
   ]
  },
  {
   "cell_type": "markdown",
   "id": "ed46242d",
   "metadata": {},
   "source": [
    "Тестируем модель и сохраняем результаты для отображения"
   ]
  },
  {
   "cell_type": "code",
   "execution_count": 4,
   "id": "cbd25636",
   "metadata": {},
   "outputs": [
    {
     "name": "stdout",
     "output_type": "stream",
     "text": [
      "processed files 20: 0.0%\n",
      "processed files 20: 13.75%\n",
      "processed files 20: 18.29%\n",
      "processed files 20: 20.15%\n",
      "processed files 20: 20.25%\n",
      "processed files 20: 20.6%%\n",
      "processed files 20: 20.57%\n",
      "processed files 20: 20.58%\n",
      "processed files 20: 20.57%\n",
      "processed files 20: 20.55%\n",
      "processed files 20: 20.54%\n",
      "processed files 20: 20.52%\n",
      "processed files 20: 20.5%%\n",
      "processed files 20: 20.52%\n",
      "processed files 20: 20.53%\n",
      "processed files 20: 20.54%\n",
      "processed files 20: 20.56%\n",
      "processed files 20: 20.57%\n",
      "processed files 20: 20.55%\n"
     ]
    }
   ],
   "source": [
    "data = []\n",
    "for x in max_tokens:\n",
    "    model_path = f\"trained_models/tree{max_file_count}_{x}.pkl\"\n",
    "    id_generator_path = f\"trained_models/id{max_file_count}_{x}.pkl\"\n",
    "    \n",
    "    root_node = TreeNode(\"\").load(model_path)\n",
    "    id_generator = TokenIdGenerator().load(id_generator_path)        \n",
    "    \n",
    "    result = test(directory_test,\n",
    "         root_node, \n",
    "         id_generator, \n",
    "         test_model, \n",
    "         max_file_count=20, \n",
    "         max_tokens=x\n",
    "    )\n",
    "    data.append([x,result[\"percent\"]])\n"
   ]
  },
  {
   "cell_type": "code",
   "execution_count": 6,
   "id": "69808f74",
   "metadata": {},
   "outputs": [],
   "source": [
    "import matplotlib.pyplot as plt"
   ]
  },
  {
   "cell_type": "code",
   "execution_count": 6,
   "id": "97221c7b",
   "metadata": {},
   "outputs": [
    {
     "data": {
      "image/png": "[encoded data removed]",
      "text/plain": [
       "<Figure size 640x480 with 1 Axes>"
      ]
     },
     "metadata": {},
     "output_type": "display_data"
    }
   ],
   "source": [
    "fig, ax = plt.subplots()\n",
    "\n",
    "x = [i[0] for i in data]\n",
    "y = [i[1] for i in data]\n",
    "    \n",
    "ax.plot(x, y)\n",
    "\n",
    "ax.set(xlabel='max_tokens', ylabel='Accuracy')\n",
    "\n",
    "plt.show()"
   ]
  },
  {
   "cell_type": "markdown",
   "id": "1482771e",
   "metadata": {},
   "source": [
    "# Зависимость точности модели от количества обучающих файлов"
   ]
  },
  {
   "cell_type": "code",
   "execution_count": 3,
   "id": "082b154e",
   "metadata": {},
   "outputs": [],
   "source": [
    "directory_train = os.getenv(\"PATH_TO_JAVA_CORPUS_TRAIN\")\n",
    "directory_test = os.getenv(\"PATH_TO_JAVA_CORPUS_TEST\")\n",
    "max_file_count = list(range(100, 500, 100)) +  list(range(500,5001, 500))\n",
    "max_tokens = 5"
   ]
  },
  {
   "cell_type": "code",
   "execution_count": null,
   "id": "0bbdcebb",
   "metadata": {},
   "outputs": [],
   "source": []
  },
  {
   "cell_type": "code",
   "execution_count": 4,
   "id": "564c3055",
   "metadata": {},
   "outputs": [
    {
     "name": "stdout",
     "output_type": "stream",
     "text": [
      "processed files: 100\n",
      "Dump: trained_models/tree100_5.pkl, trained_models/id100_5.pkl\n",
      "processed files: 201\n",
      "Dump: trained_models/tree200_5.pkl, trained_models/id200_5.pkl\n",
      "processed files: 300\n",
      "Dump: trained_models/tree300_5.pkl, trained_models/id300_5.pkl\n",
      "processed files: 400\n",
      "Dump: trained_models/tree400_5.pkl, trained_models/id400_5.pkl\n",
      "processed files: 500\n",
      "Dump: trained_models/tree500_5.pkl, trained_models/id500_5.pkl\n",
      "processed files: 1004\n",
      "Dump: trained_models/tree1000_5.pkl, trained_models/id1000_5.pkl\n",
      "processed files: 1501\n",
      "Dump: trained_models/tree1500_5.pkl, trained_models/id1500_5.pkl\n",
      "processed files: 2008\n",
      "Dump: trained_models/tree2000_5.pkl, trained_models/id2000_5.pkl\n",
      "processed files: 2506\n",
      "Dump: trained_models/tree2500_5.pkl, trained_models/id2500_5.pkl\n",
      "processed files: 3003\n",
      "Dump: trained_models/tree3000_5.pkl, trained_models/id3000_5.pkl\n",
      "processed files: 3511\n",
      "Dump: trained_models/tree3500_5.pkl, trained_models/id3500_5.pkl\n",
      "processed files: 4010\n",
      "Dump: trained_models/tree4000_5.pkl, trained_models/id4000_5.pkl\n",
      "processed files: 4513\n",
      "Dump: trained_models/tree4500_5.pkl, trained_models/id4500_5.pkl\n",
      "processed files: 5004\n",
      "Dump: trained_models/tree5000_5.pkl, trained_models/id5000_5.pkl\n",
      "\n"
     ]
    }
   ],
   "source": [
    "result = train_for_count_test(\n",
    "    directory_train, \n",
    "    train_model_all_string, \n",
    "    max_file_count=max_file_count,\n",
    "    max_tokens=max_tokens\n",
    ")\n"
   ]
  },
  {
   "cell_type": "code",
   "execution_count": 8,
   "id": "db49c171",
   "metadata": {},
   "outputs": [
    {
     "name": "stdout",
     "output_type": "stream",
     "text": [
      "processed files 20: 17.76%\n",
      "processed files 20: 18.81%\n",
      "processed files 20: 19.21%\n",
      "processed files 20: 19.38%\n",
      "processed files 20: 20.25%\n",
      "processed files 20: 29.48%\n",
      "processed files 20: 35.49%\n",
      "processed files 20: 36.88%\n",
      "processed files 20: 37.02%\n",
      "processed files 20: 38.16%\n",
      "processed files 20: 38.54%\n",
      "processed files 20: 38.32%\n",
      "processed files 20: 38.19%\n",
      "processed files 20: 38.14%\n"
     ]
    }
   ],
   "source": [
    "data_file_count = []\n",
    "for x in max_file_count:\n",
    "    model_path = f\"trained_models/tree{x}_{max_tokens}.pkl\"\n",
    "    id_generator_path = f\"trained_models/id{x}_{max_tokens}.pkl\"\n",
    "    \n",
    "    root_node = TreeNode(\"\").load(model_path)\n",
    "    id_generator = TokenIdGenerator().load(id_generator_path)        \n",
    "    \n",
    "    result = test(directory_test,\n",
    "         root_node, \n",
    "         id_generator, \n",
    "         test_model, \n",
    "         max_file_count=20, \n",
    "         max_tokens=max_tokens,\n",
    "    )\n",
    "    data_file_count.append([x,result[\"percent\"]])\n"
   ]
  },
  {
   "cell_type": "code",
   "execution_count": 9,
   "id": "566853cf",
   "metadata": {},
   "outputs": [
    {
     "data": {
      "image/png": "[encoded data removed]",
      "text/plain": [
       "<Figure size 640x480 with 1 Axes>"
      ]
     },
     "metadata": {},
     "output_type": "display_data"
    }
   ],
   "source": [
    "fig, ax = plt.subplots()\n",
    "\n",
    "x = [i[0] for i in data_file_count]\n",
    "y = [i[1] for i in data_file_count]\n",
    "\n",
    "ax.plot(x, y)\n",
    "\n",
    "ax.set(xlabel='count_files', ylabel='Accuracy')\n",
    "\n",
    "plt.show()"
   ]
  },
  {
   "cell_type": "code",
   "execution_count": 10,
   "id": "a35b0e53",
   "metadata": {},
   "outputs": [],
   "source": [
    "directory_train = os.getenv(\"PATH_TO_JAVA_CORPUS_TRAIN\")\n",
    "directory_test = os.getenv(\"PATH_TO_JAVA_CORPUS_TEST\")\n",
    "max_file_count = list(range(100, 500, 100)) +  list(range(500,5001, 1000))\n",
    "max_tokens = 5"
   ]
  },
  {
   "cell_type": "markdown",
   "id": "54e7e077",
   "metadata": {},
   "source": [
    "Совпадения ходя бы одного из 5 предложенных токенов"
   ]
  },
  {
   "cell_type": "code",
   "execution_count": 11,
   "id": "e59752c6",
   "metadata": {},
   "outputs": [
    {
     "name": "stdout",
     "output_type": "stream",
     "text": [
      "processed files 20: 27.61%\n",
      "processed files 20: 29.05%\n",
      "processed files 20: 29.66%\n",
      "processed files 20: 30.59%\n",
      "processed files 20: 31.12%\n",
      "processed files 20: 51.09%\n",
      "processed files 20: 52.69%\n",
      "processed files 20: 53.79%\n",
      "processed files 20: 53.82%\n"
     ]
    }
   ],
   "source": [
    "data_file_count_top_5 = []\n",
    "for x in max_file_count:\n",
    "    model_path = f\"trained_models/tree{x}_{max_tokens}.pkl\"\n",
    "    id_generator_path = f\"trained_models/id{x}_{max_tokens}.pkl\"\n",
    "    \n",
    "    root_node = TreeNode(\"\").load(model_path)\n",
    "    id_generator = TokenIdGenerator().load(id_generator_path)        \n",
    "    \n",
    "    result = test(directory_test,\n",
    "         root_node, \n",
    "         id_generator, \n",
    "         test_model, \n",
    "         max_file_count=20, \n",
    "         max_tokens=max_tokens,\n",
    "         top_n=5\n",
    "    )\n",
    "    data_file_count_top_5.append([x,result[\"percent\"]])\n"
   ]
  },
  {
   "cell_type": "code",
   "execution_count": 12,
   "id": "11254a1b",
   "metadata": {},
   "outputs": [
    {
     "data": {
      "image/png": "[encoded data removed]",
      "text/plain": [
       "<Figure size 640x480 with 1 Axes>"
      ]
     },
     "metadata": {},
     "output_type": "display_data"
    }
   ],
   "source": [
    "fig, ax = plt.subplots()\n",
    "\n",
    "x = [i[0] for i in data_file_count_top_5]\n",
    "y = [i[1] for i in data_file_count_top_5]\n",
    "\n",
    "    \n",
    "ax.plot(x, y)\n",
    "\n",
    "ax.set(xlabel='count_files', ylabel='Accuracy')\n",
    "\n",
    "plt.show()"
   ]
  },
  {
   "cell_type": "code",
   "execution_count": null,
   "id": "103dcfff",
   "metadata": {},
   "outputs": [],
   "source": []
  }
 ],
 "metadata": {
  "kernelspec": {
   "display_name": "Python 3 (ipykernel)",
   "language": "python",
   "name": "python3"
  },
  "language_info": {
   "codemirror_mode": {
    "name": "ipython",
    "version": 3
   },
   "file_extension": ".py",
   "mimetype": "text/x-python",
   "name": "python",
   "nbconvert_exporter": "python",
   "pygments_lexer": "ipython3",
   "version": "3.9.12"
  }
 },
 "nbformat": 4,
 "nbformat_minor": 5
}
