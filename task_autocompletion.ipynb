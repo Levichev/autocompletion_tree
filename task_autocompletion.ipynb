{
 "cells": [
  {
   "cell_type": "code",
   "execution_count": 1,
   "id": "a0953e6d",
   "metadata": {},
   "outputs": [],
   "source": [
    "import os\n",
    "import pickle\n",
    "\n",
    "from test import test\n",
    "from train import train\n",
    "from models import train_model_all_string, test_model\n",
    "from models import get_next_tokens, get_next_n_tokens\n",
    "from token_id_generator import TokenIdGenerator\n",
    "from tokenizer import tokenize_java_code\n",
    "from tree_node import TreeNode\n",
    "from token_id_generator import TokenIdGenerator"
   ]
  },
  {
   "cell_type": "markdown",
   "id": "a4292cd8",
   "metadata": {},
   "source": [
    "**directory_train**, **directory_test** - пути к директориям с проетами JAVA разделенные на тренировочные и тестовые</br>\n",
    "**max_file_count** - ограничение на количество обучаемых файлов кода (нужно в связи с ограничением по памяти и времени) </br>\n",
    "**max_tokens** - максимальное количество подряд идущих токенов которые будут записаны в дерево "
   ]
  },
  {
   "cell_type": "code",
   "execution_count": 61,
   "id": "b7b09321",
   "metadata": {},
   "outputs": [],
   "source": [
    "directory_train = os.getenv(\"PATH_TO_JAVA_CORPUS_TRAIN\")\n",
    "directory_test = os.getenv(\"PATH_TO_JAVA_CORPUS_TEST\")\n",
    "max_file_count = 2000\n",
    "max_tokens = 10"
   ]
  },
  {
   "cell_type": "markdown",
   "id": "b27673c1",
   "metadata": {},
   "source": [
    "пути для записи и чтения файла модели генератора id"
   ]
  },
  {
   "cell_type": "code",
   "execution_count": 62,
   "id": "5840b12c",
   "metadata": {},
   "outputs": [],
   "source": [
    "model_path = f\"trained_models/tree{max_file_count}_{max_tokens}.pkl\"\n",
    "id_generator_path = f\"trained_models/id{max_file_count}_{max_tokens}.pkl\""
   ]
  },
  {
   "cell_type": "markdown",
   "id": "054b10c0",
   "metadata": {},
   "source": [
    "Пример тренировки модели"
   ]
  },
  {
   "cell_type": "code",
   "execution_count": 4,
   "id": "cce585e1",
   "metadata": {},
   "outputs": [
    {
     "name": "stdout",
     "output_type": "stream",
     "text": [
      "processed files: 2008\n"
     ]
    }
   ],
   "source": [
    "result = train(\n",
    "    directory_train, \n",
    "    train_model_all_string, \n",
    "    max_file_count=max_file_count,\n",
    "    max_tokens=max_tokens\n",
    ")"
   ]
  },
  {
   "cell_type": "code",
   "execution_count": 64,
   "id": "90e0d5b1",
   "metadata": {},
   "outputs": [],
   "source": [
    "root_node = result[\"root_node\"]\n",
    "id_generator = result[\"id_generator\"]"
   ]
  },
  {
   "cell_type": "code",
   "execution_count": 65,
   "id": "fa96bd67",
   "metadata": {},
   "outputs": [],
   "source": [
    "root_node.dump(model_path)\n",
    "id_generator.dump(id_generator_path)"
   ]
  },
  {
   "cell_type": "code",
   "execution_count": 66,
   "id": "e52d7d53",
   "metadata": {},
   "outputs": [],
   "source": [
    "root_node = TreeNode(\"\").load(model_path)\n",
    "id_generator = TokenIdGenerator().load(id_generator_path)"
   ]
  },
  {
   "cell_type": "markdown",
   "id": "d77bef5b",
   "metadata": {},
   "source": [
    "Примеры тестирования модели"
   ]
  },
  {
   "cell_type": "code",
   "execution_count": 8,
   "id": "42967fbe",
   "metadata": {},
   "outputs": [
    {
     "name": "stdout",
     "output_type": "stream",
     "text": [
      "processed files 13: 42.07%\n"
     ]
    },
    {
     "data": {
      "text/plain": [
       "{'processed_files_count': 13,\n",
       " 'percent': 0.42065329218106995,\n",
       " 'count_true': 3271,\n",
       " 'count_false': 4505,\n",
       " 'count_true_whitespace_or_newline': 3483}"
      ]
     },
     "execution_count": 8,
     "metadata": {},
     "output_type": "execute_result"
    }
   ],
   "source": [
    "test(directory_test,\n",
    "     root_node, \n",
    "     id_generator, \n",
    "     test_model, \n",
    "     max_file_count=10, \n",
    "     max_tokens=max_tokens\n",
    ")"
   ]
  },
  {
   "cell_type": "code",
   "execution_count": 9,
   "id": "e51b599e",
   "metadata": {},
   "outputs": [
    {
     "name": "stdout",
     "output_type": "stream",
     "text": [
      "processed files 201: 64.12%\n"
     ]
    },
    {
     "data": {
      "text/plain": [
       "{'processed_files_count': 201,\n",
       " 'percent': 0.6411824312519655,\n",
       " 'count_true': 55050,\n",
       " 'count_false': 30807,\n",
       " 'count_true_whitespace_or_newline': 41871}"
      ]
     },
     "execution_count": 9,
     "metadata": {},
     "output_type": "execute_result"
    }
   ],
   "source": [
    "test(directory_train,\n",
    "     root_node, \n",
    "     id_generator, \n",
    "     test_model, \n",
    "     max_file_count=200, \n",
    "     max_tokens=max_tokens\n",
    ")"
   ]
  },
  {
   "cell_type": "markdown",
   "id": "f8ae17d9",
   "metadata": {},
   "source": [
    "Пример работы"
   ]
  },
  {
   "cell_type": "code",
   "execution_count": 101,
   "id": "0aaa12b0",
   "metadata": {
    "scrolled": true
   },
   "outputs": [
    {
     "name": "stdout",
     "output_type": "stream",
     "text": [
      "['import java.']['util']\n",
      "-----------------------------------\n",
      "['import java.']['io']\n",
      "-----------------------------------\n",
      "['import java.']['awt']\n",
      "-----------------------------------\n",
      "['import java.']['net']\n",
      "-----------------------------------\n",
      "['import java.']['lang']\n",
      "-----------------------------------\n"
     ]
    }
   ],
   "source": [
    "test = '''import java.'''\n",
    "\n",
    "tokens = tokenize_java_code(test)\n",
    "\n",
    "node = root_node\n",
    "returned_tokens = get_next_n_tokens(\n",
    "    node, max_tokens, \n",
    "    id_generator, \n",
    "    tokens, \n",
    "    count_reterned_tokens = 5, \n",
    "    n = 1\n",
    ")\n",
    "\n",
    "results = [[test] + [x[1] for x in returned_token] for returned_token in returned_tokens]\n",
    "for result in results:\n",
    "    for x in result:\n",
    "        print([x], end='')\n",
    "    print(\"\\n\"+\"-\"*35)"
   ]
  },
  {
   "cell_type": "code",
   "execution_count": null,
   "id": "17f7a212",
   "metadata": {},
   "outputs": [],
   "source": []
  },
  {
   "cell_type": "code",
   "execution_count": null,
   "id": "c1d06b98",
   "metadata": {},
   "outputs": [],
   "source": []
  }
 ],
 "metadata": {
  "kernelspec": {
   "display_name": "Python 3 (ipykernel)",
   "language": "python",
   "name": "python3"
  },
  "language_info": {
   "codemirror_mode": {
    "name": "ipython",
    "version": 3
   },
   "file_extension": ".py",
   "mimetype": "text/x-python",
   "name": "python",
   "nbconvert_exporter": "python",
   "pygments_lexer": "ipython3",
   "version": "3.9.12"
  }
 },
 "nbformat": 4,
 "nbformat_minor": 5
}
